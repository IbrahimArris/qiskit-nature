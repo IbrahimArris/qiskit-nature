{
 "cells": [
  {
   "cell_type": "markdown",
   "id": "24c04a2a",
   "metadata": {},
   "source": [
    "# Mapping to the Qubit Space\n",
    "\n",
    "The problems and operators with which you interact in Qiskit Nature (usually) need to be mapped into the qubit space before they can be solved with our quantum algorithms. This task is handled by the various `QubitMapper` classes.\n",
    "\n",
    "In this tutorial, you will learn about the various options available to you."
   ]
  },
  {
   "cell_type": "markdown",
   "id": "03e6fc8d",
   "metadata": {},
   "source": [
    "## Fermionic Mappers\n",
    "\n",
    "This section deals with fermionic mappers, which transform fermionic operators into the qubit space.\n",
    "This is mostly used by the [electronic structure stack](01_electronic_structure.ipynb) but also finds application for the [`FermiHubbardModel`](TODO).\n",
    "\n",
    "There exist different mapping types with different properties. Qiskit Nature already supports the following fermionic mappings:\n",
    "\n",
    "* Jordan-Wigner (Zeitschrift für Physik, 47, 631-651 (1928))\n",
    "* Parity (The Journal of chemical physics, 137(22), 224109 (2012))\n",
    "* Bravyi-Kitaev (Annals of Physics, 298(1), 210-226 (2002))\n",
    "\n",
    "We will discuss some of these in the following sections. You should learn all the information necessary, to comfortable work with any of the available mappers."
   ]
  },
  {
   "cell_type": "markdown",
   "id": "70e75c4d",
   "metadata": {},
   "source": [
    "In order to discuss the various mappings, we will be using the electronic structure Hamiltonian of the H2 molecule. For more information on how to obtain this, please refer to the [electronic structure tutorial](01_electronic_structure.ipynb)."
   ]
  },
  {
   "cell_type": "code",
   "execution_count": 1,
   "id": "ee2652aa",
   "metadata": {
    "execution": {
     "iopub.execute_input": "2024-01-25T16:59:16.715265Z",
     "iopub.status.busy": "2024-01-25T16:59:16.715071Z",
     "iopub.status.idle": "2024-01-25T16:59:18.038031Z",
     "shell.execute_reply": "2024-01-25T16:59:18.037354Z"
    }
   },
   "outputs": [
    {
     "name": "stderr",
     "output_type": "stream",
     "text": [
      "/opt/hostedtoolcache/Python/3.8.18/x64/lib/python3.8/site-packages/pyscf/dft/libxc.py:771: UserWarning: Since PySCF-2.3, B3LYP (and B3P86) are changed to the VWN-RPA variant, corresponding to the original definition by Stephens et al. (issue 1480) and the same as the B3LYP functional in Gaussian. To restore the VWN5 definition, you can put the setting \"B3LYP_WITH_VWN5 = True\" in pyscf_conf.py\n",
      "  warnings.warn('Since PySCF-2.3, B3LYP (and B3P86) are changed to the VWN-RPA variant, '\n"
     ]
    }
   ],
   "source": [
    "from qiskit_nature.second_q.drivers import PySCFDriver\n",
    "\n",
    "driver = PySCFDriver()\n",
    "problem = driver.run()\n",
    "fermionic_op = problem.hamiltonian.second_q_op()"
   ]
  },
  {
   "cell_type": "markdown",
   "id": "59db8061",
   "metadata": {},
   "source": [
    "### The Jordan-Wigner Mapping\n",
    "\n",
    "The Jordan-Wigner mapping is the most straight-forward mapping with the simplest physical interpretation, because it maps the occupation of one spin-orbital to the occupation of one qubit.\n",
    "\n",
    "<img src=\"aux_files/jw_mapping.png\" width=\"500\">\n",
    "\n",
    "You can construct use it like so:"
   ]
  },
  {
   "cell_type": "code",
   "execution_count": 2,
   "id": "1006fe66",
   "metadata": {
    "execution": {
     "iopub.execute_input": "2024-01-25T16:59:18.042583Z",
     "iopub.status.busy": "2024-01-25T16:59:18.041242Z",
     "iopub.status.idle": "2024-01-25T16:59:18.045300Z",
     "shell.execute_reply": "2024-01-25T16:59:18.044742Z"
    }
   },
   "outputs": [],
   "source": [
    "from qiskit_nature.second_q.mappers import JordanWignerMapper\n",
    "\n",
    "mapper = JordanWignerMapper()"
   ]
  },
  {
   "cell_type": "code",
   "execution_count": 3,
   "id": "f93f4e8d",
   "metadata": {
    "execution": {
     "iopub.execute_input": "2024-01-25T16:59:18.047933Z",
     "iopub.status.busy": "2024-01-25T16:59:18.047582Z",
     "iopub.status.idle": "2024-01-25T16:59:18.096901Z",
     "shell.execute_reply": "2024-01-25T16:59:18.096293Z"
    }
   },
   "outputs": [
    {
     "name": "stdout",
     "output_type": "stream",
     "text": [
      "SparsePauliOp(['IIII', 'IIIZ', 'IIZI', 'IZII', 'ZIII', 'IIZZ', 'IZIZ', 'ZIIZ', 'YYYY', 'XXYY', 'YYXX', 'XXXX', 'IZZI', 'ZIZI', 'ZZII'],\n",
      "              coeffs=[-0.81054798+0.j,  0.17218393+0.j, -0.22575349+0.j,  0.17218393+0.j,\n",
      " -0.22575349+0.j,  0.12091263+0.j,  0.16892754+0.j,  0.16614543+0.j,\n",
      "  0.0452328 +0.j,  0.0452328 +0.j,  0.0452328 +0.j,  0.0452328 +0.j,\n",
      "  0.16614543+0.j,  0.17464343+0.j,  0.12091263+0.j])\n"
     ]
    }
   ],
   "source": [
    "qubit_jw_op = mapper.map(fermionic_op)\n",
    "print(qubit_jw_op)"
   ]
  },
  {
   "cell_type": "markdown",
   "id": "75b71e3c",
   "metadata": {},
   "source": [
    "### The Parity Mapping\n",
    "\n",
    "The Parity mapping is the dual mapping to the Jordan-Wigner one, in the sense that it encodes the parity information locally on one qubit, whereas the occupation information is delocalized over all qubits."
   ]
  },
  {
   "cell_type": "code",
   "execution_count": 4,
   "id": "8eb8c042",
   "metadata": {
    "execution": {
     "iopub.execute_input": "2024-01-25T16:59:18.099670Z",
     "iopub.status.busy": "2024-01-25T16:59:18.099184Z",
     "iopub.status.idle": "2024-01-25T16:59:18.102310Z",
     "shell.execute_reply": "2024-01-25T16:59:18.101741Z"
    }
   },
   "outputs": [],
   "source": [
    "from qiskit_nature.second_q.mappers import ParityMapper\n",
    "\n",
    "mapper = ParityMapper()"
   ]
  },
  {
   "cell_type": "code",
   "execution_count": 5,
   "id": "34ff6239",
   "metadata": {
    "execution": {
     "iopub.execute_input": "2024-01-25T16:59:18.104645Z",
     "iopub.status.busy": "2024-01-25T16:59:18.104276Z",
     "iopub.status.idle": "2024-01-25T16:59:18.151121Z",
     "shell.execute_reply": "2024-01-25T16:59:18.150477Z"
    }
   },
   "outputs": [
    {
     "name": "stdout",
     "output_type": "stream",
     "text": [
      "SparsePauliOp(['IIII', 'IIIZ', 'IIZZ', 'IZZI', 'ZZII', 'IIZI', 'IZZZ', 'ZZIZ', 'ZXIX', 'IXZX', 'ZXZX', 'IXIX', 'IZIZ', 'ZZZZ', 'ZIZI'],\n",
      "              coeffs=[-0.81054798+0.j,  0.17218393+0.j, -0.22575349+0.j,  0.17218393+0.j,\n",
      " -0.22575349+0.j,  0.12091263+0.j,  0.16892754+0.j,  0.16614543+0.j,\n",
      "  0.0452328 +0.j, -0.0452328 +0.j, -0.0452328 +0.j,  0.0452328 +0.j,\n",
      "  0.16614543+0.j,  0.17464343+0.j,  0.12091263+0.j])\n"
     ]
    }
   ],
   "source": [
    "qubit_p_op = mapper.map(fermionic_op)\n",
    "print(qubit_p_op)"
   ]
  },
  {
   "cell_type": "markdown",
   "id": "19dd459f",
   "metadata": {},
   "source": [
    "This has one major benefit for the case of problems in which we want to preserve the number of particles of each spin species; it allows us to remove 2 qubits, because the information in them becomes redundant.\n",
    "Since Qiskit Nature arranges the qubits in block-order, such that the first half encodes the alpha-spin, and the second half the beta-spin information, this means we can remove the N/2-th and N-th qubit.\n",
    "\n",
    "To do this, you need to specify the number of particles in your system, like so:"
   ]
  },
  {
   "cell_type": "code",
   "execution_count": 6,
   "id": "7592d0fc",
   "metadata": {
    "execution": {
     "iopub.execute_input": "2024-01-25T16:59:18.153565Z",
     "iopub.status.busy": "2024-01-25T16:59:18.153196Z",
     "iopub.status.idle": "2024-01-25T16:59:18.156274Z",
     "shell.execute_reply": "2024-01-25T16:59:18.155620Z"
    }
   },
   "outputs": [],
   "source": [
    "mapper = ParityMapper(num_particles=problem.num_particles)"
   ]
  },
  {
   "cell_type": "code",
   "execution_count": 7,
   "id": "569a3b78",
   "metadata": {
    "execution": {
     "iopub.execute_input": "2024-01-25T16:59:18.158618Z",
     "iopub.status.busy": "2024-01-25T16:59:18.158280Z",
     "iopub.status.idle": "2024-01-25T16:59:18.209355Z",
     "shell.execute_reply": "2024-01-25T16:59:18.208680Z"
    }
   },
   "outputs": [
    {
     "name": "stdout",
     "output_type": "stream",
     "text": [
      "SparsePauliOp(['II', 'IZ', 'ZI', 'ZZ', 'XX'],\n",
      "              coeffs=[-1.05237325+0.j,  0.39793742+0.j, -0.39793742+0.j, -0.0112801 +0.j,\n",
      "  0.1809312 +0.j])\n"
     ]
    }
   ],
   "source": [
    "qubit_op = mapper.map(fermionic_op)\n",
    "print(qubit_op)"
   ]
  },
  {
   "cell_type": "markdown",
   "id": "2b4b1bec",
   "metadata": {},
   "source": [
    "### More advanced qubit reductions\n",
    "\n",
    "It is also possible to perform more advanced qubit reductions, which are based on finding Z2 symmetries in the Hilbert space of the qubit. A requirement for this to be useful, is that you know in which symmetry-subspace you need to look for your actual solution of interest. This can be a bit tricky, but luckily the problem classes of Qiskit Nature provide you with a utility to automatically determine that correct subspace.\n",
    "\n",
    "Here is how you can use this to your advantage:"
   ]
  },
  {
   "cell_type": "code",
   "execution_count": 8,
   "id": "b435102f",
   "metadata": {
    "execution": {
     "iopub.execute_input": "2024-01-25T16:59:18.211834Z",
     "iopub.status.busy": "2024-01-25T16:59:18.211624Z",
     "iopub.status.idle": "2024-01-25T16:59:18.262660Z",
     "shell.execute_reply": "2024-01-25T16:59:18.261953Z"
    }
   },
   "outputs": [
    {
     "name": "stdout",
     "output_type": "stream",
     "text": [
      "<class 'qiskit_nature.second_q.mappers.tapered_qubit_mapper.TaperedQubitMapper'>\n"
     ]
    }
   ],
   "source": [
    "tapered_mapper = problem.get_tapered_mapper(mapper)\n",
    "print(type(tapered_mapper))"
   ]
  },
  {
   "cell_type": "code",
   "execution_count": 9,
   "id": "4270e7cf",
   "metadata": {
    "execution": {
     "iopub.execute_input": "2024-01-25T16:59:18.265361Z",
     "iopub.status.busy": "2024-01-25T16:59:18.264986Z",
     "iopub.status.idle": "2024-01-25T16:59:18.319767Z",
     "shell.execute_reply": "2024-01-25T16:59:18.319169Z"
    }
   },
   "outputs": [
    {
     "name": "stdout",
     "output_type": "stream",
     "text": [
      "SparsePauliOp(['I', 'Z', 'X'],\n",
      "              coeffs=[-1.04109314+0.j, -0.79587485+0.j, -0.1809312 +0.j])\n"
     ]
    }
   ],
   "source": [
    "qubit_op = tapered_mapper.map(fermionic_op)\n",
    "print(qubit_op)"
   ]
  },
  {
   "cell_type": "markdown",
   "id": "93639c5b",
   "metadata": {},
   "source": [
    "As you can see here, the H2 molecule is such a simple system that we can simulate it entirely on a single qubit!"
   ]
  },
  {
   "cell_type": "markdown",
   "id": "0df25991",
   "metadata": {},
   "source": [
    "### Interleaved ordering\n",
    "\n",
    "As mentioned previously, Qiskit Nature arranges the fermionic spin-up and spin-down parts of the qubit register in block-order. However, sometimes one may want to interleave the registers instead. This can be achieved by means of the `InterleavedQubitMapper`. This can be shown best upon inspection of the `HarteeFock` initial state circuit:"
   ]
  },
  {
   "cell_type": "code",
   "execution_count": 10,
   "id": "c3d27433",
   "metadata": {
    "execution": {
     "iopub.execute_input": "2024-01-25T16:59:18.322389Z",
     "iopub.status.busy": "2024-01-25T16:59:18.322157Z",
     "iopub.status.idle": "2024-01-25T16:59:18.325235Z",
     "shell.execute_reply": "2024-01-25T16:59:18.324661Z"
    }
   },
   "outputs": [],
   "source": [
    "from qiskit_nature.second_q.circuit.library import HartreeFock"
   ]
  },
  {
   "cell_type": "code",
   "execution_count": 11,
   "id": "32570338",
   "metadata": {
    "execution": {
     "iopub.execute_input": "2024-01-25T16:59:18.327738Z",
     "iopub.status.busy": "2024-01-25T16:59:18.327343Z",
     "iopub.status.idle": "2024-01-25T16:59:18.354529Z",
     "shell.execute_reply": "2024-01-25T16:59:18.353827Z"
    }
   },
   "outputs": [
    {
     "data": {
      "text/html": [
       "<pre style=\"word-wrap: normal;white-space: pre;background: #fff0;line-height: 1.1;font-family: &quot;Courier New&quot;,Courier,monospace\">     ┌───┐\n",
       "q_0: ┤ X ├\n",
       "     └───┘\n",
       "q_1: ─────\n",
       "     ┌───┐\n",
       "q_2: ┤ X ├\n",
       "     └───┘\n",
       "q_3: ─────\n",
       "          </pre>"
      ],
      "text/plain": [
       "     ┌───┐\n",
       "q_0: ┤ X ├\n",
       "     └───┘\n",
       "q_1: ─────\n",
       "     ┌───┐\n",
       "q_2: ┤ X ├\n",
       "     └───┘\n",
       "q_3: ─────\n",
       "          "
      ]
     },
     "execution_count": 11,
     "metadata": {},
     "output_type": "execute_result"
    }
   ],
   "source": [
    "hf_state = HartreeFock(2, (1, 1), JordanWignerMapper())\n",
    "hf_state.draw()"
   ]
  },
  {
   "cell_type": "code",
   "execution_count": 12,
   "id": "1df61274",
   "metadata": {
    "execution": {
     "iopub.execute_input": "2024-01-25T16:59:18.357014Z",
     "iopub.status.busy": "2024-01-25T16:59:18.356631Z",
     "iopub.status.idle": "2024-01-25T16:59:18.359537Z",
     "shell.execute_reply": "2024-01-25T16:59:18.358936Z"
    }
   },
   "outputs": [],
   "source": [
    "from qiskit_nature.second_q.mappers import InterleavedQubitMapper"
   ]
  },
  {
   "cell_type": "code",
   "execution_count": 13,
   "id": "98062e44",
   "metadata": {
    "execution": {
     "iopub.execute_input": "2024-01-25T16:59:18.362029Z",
     "iopub.status.busy": "2024-01-25T16:59:18.361653Z",
     "iopub.status.idle": "2024-01-25T16:59:18.364637Z",
     "shell.execute_reply": "2024-01-25T16:59:18.364092Z"
    }
   },
   "outputs": [],
   "source": [
    "interleaved_mapper = InterleavedQubitMapper(JordanWignerMapper())"
   ]
  },
  {
   "cell_type": "code",
   "execution_count": 14,
   "id": "9e7d3e42",
   "metadata": {
    "execution": {
     "iopub.execute_input": "2024-01-25T16:59:18.367057Z",
     "iopub.status.busy": "2024-01-25T16:59:18.366672Z",
     "iopub.status.idle": "2024-01-25T16:59:18.372839Z",
     "shell.execute_reply": "2024-01-25T16:59:18.372281Z"
    }
   },
   "outputs": [
    {
     "data": {
      "text/html": [
       "<pre style=\"word-wrap: normal;white-space: pre;background: #fff0;line-height: 1.1;font-family: &quot;Courier New&quot;,Courier,monospace\">     ┌───┐\n",
       "q_0: ┤ X ├\n",
       "     ├───┤\n",
       "q_1: ┤ X ├\n",
       "     └───┘\n",
       "q_2: ─────\n",
       "          \n",
       "q_3: ─────\n",
       "          </pre>"
      ],
      "text/plain": [
       "     ┌───┐\n",
       "q_0: ┤ X ├\n",
       "     ├───┤\n",
       "q_1: ┤ X ├\n",
       "     └───┘\n",
       "q_2: ─────\n",
       "          \n",
       "q_3: ─────\n",
       "          "
      ]
     },
     "execution_count": 14,
     "metadata": {},
     "output_type": "execute_result"
    }
   ],
   "source": [
    "hf_state = HartreeFock(2, (1, 1), interleaved_mapper)\n",
    "hf_state.draw()"
   ]
  },
  {
   "cell_type": "code",
   "execution_count": 15,
   "id": "503076fb",
   "metadata": {
    "execution": {
     "iopub.execute_input": "2024-01-25T16:59:18.375366Z",
     "iopub.status.busy": "2024-01-25T16:59:18.374996Z",
     "iopub.status.idle": "2024-01-25T16:59:18.538920Z",
     "shell.execute_reply": "2024-01-25T16:59:18.538292Z"
    }
   },
   "outputs": [
    {
     "data": {
      "text/html": [
       "<h3>Version Information</h3><table><tr><th>Software</th><th>Version</th></tr><tr><td><code>qiskit</code></td><td>0.45.2</td></tr><tr><td><code>qiskit_nature</code></td><td>0.7.1</td></tr><tr><td><code>qiskit_algorithms</code></td><td>0.2.2</td></tr><tr><th colspan='2'>System information</th></tr><tr><td>Python version</td><td>3.8.18</td></tr><tr><td>Python compiler</td><td>GCC 11.4.0</td></tr><tr><td>Python build</td><td>default, Aug 28 2023 08:27:22</td></tr><tr><td>OS</td><td>Linux</td></tr><tr><td>CPUs</td><td>2</td></tr><tr><td>Memory (Gb)</td><td>15.60690689086914</td></tr><tr><td colspan='2'>Thu Jan 25 16:59:18 2024 UTC</td></tr></table>"
      ],
      "text/plain": [
       "<IPython.core.display.HTML object>"
      ]
     },
     "metadata": {},
     "output_type": "display_data"
    },
    {
     "data": {
      "text/html": [
       "<div style='width: 100%; background-color:#d5d9e0;padding-left: 10px; padding-bottom: 10px; padding-right: 10px; padding-top: 5px'><h3>This code is a part of Qiskit</h3><p>&copy; Copyright IBM 2017, 2024.</p><p>This code is licensed under the Apache License, Version 2.0. You may<br>obtain a copy of this license in the LICENSE.txt file in the root directory<br> of this source tree or at http://www.apache.org/licenses/LICENSE-2.0.<p>Any modifications or derivative works of this code must retain this<br>copyright notice, and modified files need to carry a notice indicating<br>that they have been altered from the originals.</p></div>"
      ],
      "text/plain": [
       "<IPython.core.display.HTML object>"
      ]
     },
     "metadata": {},
     "output_type": "display_data"
    }
   ],
   "source": [
    "import qiskit.tools.jupyter\n",
    "\n",
    "%qiskit_version_table\n",
    "%qiskit_copyright"
   ]
  }
 ],
 "metadata": {
  "kernelspec": {
   "display_name": "Python 3",
   "language": "python",
   "name": "python3"
  },
  "language_info": {
   "codemirror_mode": {
    "name": "ipython",
    "version": 3
   },
   "file_extension": ".py",
   "mimetype": "text/x-python",
   "name": "python",
   "nbconvert_exporter": "python",
   "pygments_lexer": "ipython3",
   "version": "3.8.18"
  },
  "widgets": {
   "application/vnd.jupyter.widget-state+json": {
    "state": {
     "0aa6912c44aa48509f586fcb76cfcf02": {
      "model_module": "@jupyter-widgets/base",
      "model_module_version": "2.0.0",
      "model_name": "LayoutModel",
      "state": {
       "_model_module": "@jupyter-widgets/base",
       "_model_module_version": "2.0.0",
       "_model_name": "LayoutModel",
       "_view_count": null,
       "_view_module": "@jupyter-widgets/base",
       "_view_module_version": "2.0.0",
       "_view_name": "LayoutView",
       "align_content": null,
       "align_items": null,
       "align_self": null,
       "border_bottom": null,
       "border_left": null,
       "border_right": null,
       "border_top": null,
       "bottom": null,
       "display": null,
       "flex": null,
       "flex_flow": null,
       "grid_area": null,
       "grid_auto_columns": null,
       "grid_auto_flow": null,
       "grid_auto_rows": null,
       "grid_column": null,
       "grid_gap": null,
       "grid_row": null,
       "grid_template_areas": null,
       "grid_template_columns": null,
       "grid_template_rows": null,
       "height": null,
       "justify_content": null,
       "justify_items": null,
       "left": null,
       "margin": "0px 0px 10px 0px",
       "max_height": null,
       "max_width": null,
       "min_height": null,
       "min_width": null,
       "object_fit": null,
       "object_position": null,
       "order": null,
       "overflow": null,
       "padding": null,
       "right": null,
       "top": null,
       "visibility": null,
       "width": null
      }
     },
     "37df4812ea0c499bb9ac8fad6cdba406": {
      "model_module": "@jupyter-widgets/controls",
      "model_module_version": "2.0.0",
      "model_name": "HTMLStyleModel",
      "state": {
       "_model_module": "@jupyter-widgets/controls",
       "_model_module_version": "2.0.0",
       "_model_name": "HTMLStyleModel",
       "_view_count": null,
       "_view_module": "@jupyter-widgets/base",
       "_view_module_version": "2.0.0",
       "_view_name": "StyleView",
       "background": null,
       "description_width": "",
       "font_size": null,
       "text_color": null
      }
     },
     "7d6008e5829b4baa95b75ccc166caf29": {
      "model_module": "@jupyter-widgets/controls",
      "model_module_version": "2.0.0",
      "model_name": "HTMLModel",
      "state": {
       "_dom_classes": [],
       "_model_module": "@jupyter-widgets/controls",
       "_model_module_version": "2.0.0",
       "_model_name": "HTMLModel",
       "_view_count": null,
       "_view_module": "@jupyter-widgets/controls",
       "_view_module_version": "2.0.0",
       "_view_name": "HTMLView",
       "description": "",
       "description_allow_html": false,
       "layout": "IPY_MODEL_0aa6912c44aa48509f586fcb76cfcf02",
       "placeholder": "​",
       "style": "IPY_MODEL_37df4812ea0c499bb9ac8fad6cdba406",
       "tabbable": null,
       "tooltip": null,
       "value": "<p style='font-family: IBM Plex Sans, Arial, Helvetica, sans-serif; font-size: 20px; font-weight: medium;'>Circuit Properties</p>"
      }
     }
    },
    "version_major": 2,
    "version_minor": 0
   }
  }
 },
 "nbformat": 4,
 "nbformat_minor": 5
}
