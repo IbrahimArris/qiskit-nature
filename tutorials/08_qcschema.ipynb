{
 "cells": [
  {
   "cell_type": "markdown",
   "id": "3e8d47d1",
   "metadata": {},
   "source": [
    "# QCSchema\n",
    "\n",
    "The [QCSchema](https://github.com/MolSSI/QCSchema) is a standard data format for quantum chemistry. The current version of it which has been adopted by multiple classical chemistry codes, only supports serialization via `JSON`, but their docs clearly indicate that `HDF5` may also be used. Thus, in Qiskit Nature, we have opted for implementing support for both hierarchical data formats.\n",
    "\n",
    "Now, why do we have a tutorial specifically about this format you may wonder? The reason is fairly simple: this is the data format which our drivers use internally to transfer data between the classical computation and Qiskit Nature. Thus, this tutorial will explain a few concepts, in case you want to get a bit more elaborate with your driver interaction.\n",
    "\n",
    "> **Note:** the support for electronic-repulsion integrals as part of the QCSchema is not yet part of the official specification and, thus, custom to Qiskit Nature. But we are working with the QCSchema authors to make this integration official!\n",
    "\n",
    "For the purposes of this tutorial, we are using the `PySCFDriver`, but most discussion points should apply to the other electronic structure drivers, too.\n",
    "\n",
    "First, let us construct a `PySCFDriver` and run it:"
   ]
  },
  {
   "cell_type": "code",
   "execution_count": 1,
   "id": "58fc6126",
   "metadata": {
    "execution": {
     "iopub.execute_input": "2024-02-15T18:17:31.224703Z",
     "iopub.status.busy": "2024-02-15T18:17:31.224501Z",
     "iopub.status.idle": "2024-02-15T18:17:32.522140Z",
     "shell.execute_reply": "2024-02-15T18:17:32.521334Z"
    }
   },
   "outputs": [
    {
     "name": "stdout",
     "output_type": "stream",
     "text": [
      "<qiskit_nature.second_q.problems.electronic_structure_problem.ElectronicStructureProblem object at 0x7fd6f3770250>\n"
     ]
    }
   ],
   "source": [
    "from qiskit_nature.second_q.drivers import PySCFDriver\n",
    "\n",
    "driver = PySCFDriver()\n",
    "\n",
    "problem = driver.run()\n",
    "print(problem)"
   ]
  },
  {
   "cell_type": "markdown",
   "id": "8159093f",
   "metadata": {},
   "source": [
    "This is basically short for the following:"
   ]
  },
  {
   "cell_type": "code",
   "execution_count": 2,
   "id": "9a15d2cb",
   "metadata": {
    "execution": {
     "iopub.execute_input": "2024-02-15T18:17:32.525899Z",
     "iopub.status.busy": "2024-02-15T18:17:32.525112Z",
     "iopub.status.idle": "2024-02-15T18:17:32.555324Z",
     "shell.execute_reply": "2024-02-15T18:17:32.554687Z"
    }
   },
   "outputs": [
    {
     "name": "stdout",
     "output_type": "stream",
     "text": [
      "ElectronicBasis.MO\n"
     ]
    }
   ],
   "source": [
    "from qiskit_nature.second_q.problems import ElectronicBasis\n",
    "\n",
    "driver.run_pyscf()\n",
    "problem = driver.to_problem(basis=ElectronicBasis.MO, include_dipole=True)\n",
    "print(problem.basis)"
   ]
  },
  {
   "cell_type": "markdown",
   "id": "9f29061c",
   "metadata": {},
   "source": [
    "There are two things to note here:\n",
    "- the problem is specifically requested in the MO basis\n",
    "- dipole integrals are handled separately (because the current QCSchema standard does not support these coefficients)\n",
    "\n",
    "What this means for you as an end-user, is that you can also request the problem in another basis like so:"
   ]
  },
  {
   "cell_type": "code",
   "execution_count": 3,
   "id": "141fbf74",
   "metadata": {
    "execution": {
     "iopub.execute_input": "2024-02-15T18:17:32.558324Z",
     "iopub.status.busy": "2024-02-15T18:17:32.557761Z",
     "iopub.status.idle": "2024-02-15T18:17:32.573658Z",
     "shell.execute_reply": "2024-02-15T18:17:32.573051Z"
    }
   },
   "outputs": [
    {
     "name": "stderr",
     "output_type": "stream",
     "text": [
      "The provided alpha-beta overlap matrix is NOT unitary! This can happen when the alpha- and beta-spin orbitals do not span the same space. To provide an example of what this means, consider an active space chosen from unrestricted-spin orbitals. Computing <S^2> within this active space may not result in the same <S^2> value as obtained on the single-reference starting point. More importantly, this implies that the inactive subspace will account for the difference between these two <S^2> values, possibly resulting in significant spin contamination in both subspaces. You should verify whether this is intentional/acceptable or whether your choice of active space can be improved. As a reference, here is the summed-absolute deviation of `S^T @ S` from the identity: 7.064215023495638\n"
     ]
    },
    {
     "name": "stdout",
     "output_type": "stream",
     "text": [
      "ElectronicBasis.AO\n"
     ]
    }
   ],
   "source": [
    "ao_problem = driver.to_problem(basis=ElectronicBasis.AO)\n",
    "print(ao_problem.basis)"
   ]
  },
  {
   "cell_type": "markdown",
   "id": "a6abf1a4",
   "metadata": {},
   "source": [
    "If you now want to transform an AO problem into the MO basis, you need to use the `BasisTransformer` which is explained in [a separate tutorial](05_problem_transformers.ipynb).\n",
    "\n",
    "This is the point, where you need to understand that the `to_problem` method actually relies on the `to_qcschema` method internally:"
   ]
  },
  {
   "cell_type": "code",
   "execution_count": 4,
   "id": "1554d775",
   "metadata": {
    "execution": {
     "iopub.execute_input": "2024-02-15T18:17:32.576761Z",
     "iopub.status.busy": "2024-02-15T18:17:32.576101Z",
     "iopub.status.idle": "2024-02-15T18:17:32.587529Z",
     "shell.execute_reply": "2024-02-15T18:17:32.586931Z"
    }
   },
   "outputs": [
    {
     "name": "stderr",
     "output_type": "stream",
     "text": [
      "The provided alpha-beta overlap matrix is NOT unitary! This can happen when the alpha- and beta-spin orbitals do not span the same space. To provide an example of what this means, consider an active space chosen from unrestricted-spin orbitals. Computing <S^2> within this active space may not result in the same <S^2> value as obtained on the single-reference starting point. More importantly, this implies that the inactive subspace will account for the difference between these two <S^2> values, possibly resulting in significant spin contamination in both subspaces. You should verify whether this is intentional/acceptable or whether your choice of active space can be improved. As a reference, here is the summed-absolute deviation of `S^T @ S` from the identity: 7.064215023495638\n"
     ]
    }
   ],
   "source": [
    "from qiskit_nature.second_q.formats.qcschema_translator import qcschema_to_problem\n",
    "\n",
    "qcschema = driver.to_qcschema()\n",
    "ao_problem = qcschema_to_problem(qcschema, basis=ElectronicBasis.AO)"
   ]
  },
  {
   "cell_type": "markdown",
   "id": "398a8238",
   "metadata": {},
   "source": [
    "Specifically extracting the QCSchema object from the driver allows you to later extract a `BasisTransformer` from it, without having to manually dig out the AO-2-MO transformation coefficients from the depths of the driver object:"
   ]
  },
  {
   "cell_type": "code",
   "execution_count": 5,
   "id": "96fcf465",
   "metadata": {
    "execution": {
     "iopub.execute_input": "2024-02-15T18:17:32.590548Z",
     "iopub.status.busy": "2024-02-15T18:17:32.590322Z",
     "iopub.status.idle": "2024-02-15T18:17:32.594190Z",
     "shell.execute_reply": "2024-02-15T18:17:32.593593Z"
    }
   },
   "outputs": [],
   "source": [
    "from qiskit_nature.second_q.formats.qcschema_translator import get_ao_to_mo_from_qcschema\n",
    "\n",
    "basis_transformer = get_ao_to_mo_from_qcschema(qcschema)"
   ]
  },
  {
   "cell_type": "code",
   "execution_count": 6,
   "id": "722fc2b8",
   "metadata": {
    "execution": {
     "iopub.execute_input": "2024-02-15T18:17:32.596594Z",
     "iopub.status.busy": "2024-02-15T18:17:32.596245Z",
     "iopub.status.idle": "2024-02-15T18:17:32.601498Z",
     "shell.execute_reply": "2024-02-15T18:17:32.600868Z"
    }
   },
   "outputs": [
    {
     "name": "stdout",
     "output_type": "stream",
     "text": [
      "ElectronicBasis.MO\n"
     ]
    }
   ],
   "source": [
    "mo_problem = basis_transformer.transform(ao_problem)\n",
    "print(mo_problem.basis)"
   ]
  },
  {
   "cell_type": "code",
   "execution_count": 7,
   "id": "2140c25f",
   "metadata": {
    "execution": {
     "iopub.execute_input": "2024-02-15T18:17:32.603973Z",
     "iopub.status.busy": "2024-02-15T18:17:32.603533Z",
     "iopub.status.idle": "2024-02-15T18:17:32.780670Z",
     "shell.execute_reply": "2024-02-15T18:17:32.779987Z"
    }
   },
   "outputs": [
    {
     "name": "stderr",
     "output_type": "stream",
     "text": [
      "/tmp/ipykernel_3201/1492642725.py:1: DeprecationWarning: qiskit.tools.jupyter is deprecated and will be removed in Qiskit 1.0.0\n",
      "  import qiskit.tools.jupyter\n"
     ]
    },
    {
     "data": {
      "text/html": [
       "<h3>Version Information</h3><table><tr><th>Software</th><th>Version</th></tr><tr><td><code>qiskit</code></td><td>0.46.0</td></tr><tr><td><code>qiskit_algorithms</code></td><td>0.2.2</td></tr><tr><td><code>qiskit_nature</code></td><td>0.7.1</td></tr><tr><th colspan='2'>System information</th></tr><tr><td>Python version</td><td>3.8.18</td></tr><tr><td>Python compiler</td><td>GCC 11.4.0</td></tr><tr><td>Python build</td><td>default, Aug 28 2023 08:27:22</td></tr><tr><td>OS</td><td>Linux</td></tr><tr><td>CPUs</td><td>2</td></tr><tr><td>Memory (Gb)</td><td>15.60690689086914</td></tr><tr><td colspan='2'>Thu Feb 15 18:17:32 2024 UTC</td></tr></table>"
      ],
      "text/plain": [
       "<IPython.core.display.HTML object>"
      ]
     },
     "metadata": {},
     "output_type": "display_data"
    },
    {
     "data": {
      "text/html": [
       "<div style='width: 100%; background-color:#d5d9e0;padding-left: 10px; padding-bottom: 10px; padding-right: 10px; padding-top: 5px'><h3>This code is a part of Qiskit</h3><p>&copy; Copyright IBM 2017, 2024.</p><p>This code is licensed under the Apache License, Version 2.0. You may<br>obtain a copy of this license in the LICENSE.txt file in the root directory<br> of this source tree or at http://www.apache.org/licenses/LICENSE-2.0.<p>Any modifications or derivative works of this code must retain this<br>copyright notice, and modified files need to carry a notice indicating<br>that they have been altered from the originals.</p></div>"
      ],
      "text/plain": [
       "<IPython.core.display.HTML object>"
      ]
     },
     "metadata": {},
     "output_type": "display_data"
    }
   ],
   "source": [
    "import qiskit.tools.jupyter\n",
    "\n",
    "%qiskit_version_table\n",
    "%qiskit_copyright"
   ]
  }
 ],
 "metadata": {
  "kernelspec": {
   "display_name": "Python 3",
   "language": "python",
   "name": "python3"
  },
  "language_info": {
   "codemirror_mode": {
    "name": "ipython",
    "version": 3
   },
   "file_extension": ".py",
   "mimetype": "text/x-python",
   "name": "python",
   "nbconvert_exporter": "python",
   "pygments_lexer": "ipython3",
   "version": "3.8.18"
  },
  "widgets": {
   "application/vnd.jupyter.widget-state+json": {
    "state": {
     "39117d55d0dc45579d0c7d6832354fff": {
      "model_module": "@jupyter-widgets/controls",
      "model_module_version": "2.0.0",
      "model_name": "HTMLModel",
      "state": {
       "_dom_classes": [],
       "_model_module": "@jupyter-widgets/controls",
       "_model_module_version": "2.0.0",
       "_model_name": "HTMLModel",
       "_view_count": null,
       "_view_module": "@jupyter-widgets/controls",
       "_view_module_version": "2.0.0",
       "_view_name": "HTMLView",
       "description": "",
       "description_allow_html": false,
       "layout": "IPY_MODEL_bfc4d9c2ea5c42859b61d952a26779af",
       "placeholder": "​",
       "style": "IPY_MODEL_454c62f4b115414aa3744ca43508bb71",
       "tabbable": null,
       "tooltip": null,
       "value": "<p style='font-family: IBM Plex Sans, Arial, Helvetica, sans-serif; font-size: 20px; font-weight: medium;'>Circuit Properties</p>"
      }
     },
     "454c62f4b115414aa3744ca43508bb71": {
      "model_module": "@jupyter-widgets/controls",
      "model_module_version": "2.0.0",
      "model_name": "HTMLStyleModel",
      "state": {
       "_model_module": "@jupyter-widgets/controls",
       "_model_module_version": "2.0.0",
       "_model_name": "HTMLStyleModel",
       "_view_count": null,
       "_view_module": "@jupyter-widgets/base",
       "_view_module_version": "2.0.0",
       "_view_name": "StyleView",
       "background": null,
       "description_width": "",
       "font_size": null,
       "text_color": null
      }
     },
     "bfc4d9c2ea5c42859b61d952a26779af": {
      "model_module": "@jupyter-widgets/base",
      "model_module_version": "2.0.0",
      "model_name": "LayoutModel",
      "state": {
       "_model_module": "@jupyter-widgets/base",
       "_model_module_version": "2.0.0",
       "_model_name": "LayoutModel",
       "_view_count": null,
       "_view_module": "@jupyter-widgets/base",
       "_view_module_version": "2.0.0",
       "_view_name": "LayoutView",
       "align_content": null,
       "align_items": null,
       "align_self": null,
       "border_bottom": null,
       "border_left": null,
       "border_right": null,
       "border_top": null,
       "bottom": null,
       "display": null,
       "flex": null,
       "flex_flow": null,
       "grid_area": null,
       "grid_auto_columns": null,
       "grid_auto_flow": null,
       "grid_auto_rows": null,
       "grid_column": null,
       "grid_gap": null,
       "grid_row": null,
       "grid_template_areas": null,
       "grid_template_columns": null,
       "grid_template_rows": null,
       "height": null,
       "justify_content": null,
       "justify_items": null,
       "left": null,
       "margin": "0px 0px 10px 0px",
       "max_height": null,
       "max_width": null,
       "min_height": null,
       "min_width": null,
       "object_fit": null,
       "object_position": null,
       "order": null,
       "overflow": null,
       "padding": null,
       "right": null,
       "top": null,
       "visibility": null,
       "width": null
      }
     }
    },
    "version_major": 2,
    "version_minor": 0
   }
  }
 },
 "nbformat": 4,
 "nbformat_minor": 5
}
