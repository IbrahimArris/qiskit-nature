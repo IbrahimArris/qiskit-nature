{
 "cells": [
  {
   "cell_type": "markdown",
   "metadata": {},
   "source": [
    "# Ground state solvers"
   ]
  },
  {
   "cell_type": "markdown",
   "metadata": {},
   "source": [
    "## Introduction\n",
    "\n",
    "<img src=\"aux_files/H2_gs.png\" width=\"200\">\n",
    "\n",
    "In this tutorial we are going to discuss the ground state calculation interface of Qiskit Nature. The goal is to compute the ground state of a molecular Hamiltonian. This Hamiltonian can for example be electronic or vibrational. To know more about the preparation of the Hamiltonian, check out the [Electronic structure](01_electronic_structure.ipynb) and [Vibrational structure tutorials](02_vibrational_structure.ipynb). \n",
    "\n",
    "> It should be said, that in the electronic case, we are actually computing purely the **electronic** part. When using the Qiskit Nature stack as presented in this tutorial, the _nuclear repulsion energy_ will be added automatically, to obtain the **total** ground state energy.\n",
    "\n",
    "The first step is to define the molecular system. In the following we ask for the electronic part of a hydrogen molecule."
   ]
  },
  {
   "cell_type": "code",
   "execution_count": 1,
   "metadata": {
    "execution": {
     "iopub.execute_input": "2024-01-25T16:59:00.185619Z",
     "iopub.status.busy": "2024-01-25T16:59:00.185414Z",
     "iopub.status.idle": "2024-01-25T16:59:01.485134Z",
     "shell.execute_reply": "2024-01-25T16:59:01.484454Z"
    }
   },
   "outputs": [
    {
     "name": "stderr",
     "output_type": "stream",
     "text": [
      "/opt/hostedtoolcache/Python/3.8.18/x64/lib/python3.8/site-packages/pyscf/dft/libxc.py:771: UserWarning: Since PySCF-2.3, B3LYP (and B3P86) are changed to the VWN-RPA variant, corresponding to the original definition by Stephens et al. (issue 1480) and the same as the B3LYP functional in Gaussian. To restore the VWN5 definition, you can put the setting \"B3LYP_WITH_VWN5 = True\" in pyscf_conf.py\n",
      "  warnings.warn('Since PySCF-2.3, B3LYP (and B3P86) are changed to the VWN-RPA variant, '\n"
     ]
    }
   ],
   "source": [
    "from qiskit_nature.units import DistanceUnit\n",
    "from qiskit_nature.second_q.drivers import PySCFDriver\n",
    "\n",
    "driver = PySCFDriver(\n",
    "    atom=\"H 0 0 0; H 0 0 0.735\",\n",
    "    basis=\"sto3g\",\n",
    "    charge=0,\n",
    "    spin=0,\n",
    "    unit=DistanceUnit.ANGSTROM,\n",
    ")\n",
    "\n",
    "es_problem = driver.run()"
   ]
  },
  {
   "cell_type": "markdown",
   "metadata": {},
   "source": [
    "We will also be sticking to the Jordan-Wigner mapping. To learn more about the various mappers available in Qiskit Nature, check out the [Qubit Mappers tutorial](06_qubit_mappers.ipynb)."
   ]
  },
  {
   "cell_type": "code",
   "execution_count": 2,
   "metadata": {
    "execution": {
     "iopub.execute_input": "2024-01-25T16:59:01.489187Z",
     "iopub.status.busy": "2024-01-25T16:59:01.488191Z",
     "iopub.status.idle": "2024-01-25T16:59:01.492086Z",
     "shell.execute_reply": "2024-01-25T16:59:01.491521Z"
    }
   },
   "outputs": [],
   "source": [
    "from qiskit_nature.second_q.mappers import JordanWignerMapper\n",
    "\n",
    "mapper = JordanWignerMapper()"
   ]
  },
  {
   "cell_type": "markdown",
   "metadata": {},
   "source": [
    "## The Solver\n",
    "\n",
    "After these steps, we need to define a solver. The solver is the algorithm through which the ground state is computed. \n",
    "\n",
    "Let's first start with a purely classical example: the `NumPyMinimumEigensolver`. This algorithm exactly diagonalizes the Hamiltonian. Although it scales badly, it can be used on small systems to check the results of the quantum algorithms. "
   ]
  },
  {
   "cell_type": "code",
   "execution_count": 3,
   "metadata": {
    "execution": {
     "iopub.execute_input": "2024-01-25T16:59:01.494310Z",
     "iopub.status.busy": "2024-01-25T16:59:01.494114Z",
     "iopub.status.idle": "2024-01-25T16:59:01.497130Z",
     "shell.execute_reply": "2024-01-25T16:59:01.496503Z"
    }
   },
   "outputs": [],
   "source": [
    "from qiskit_algorithms import NumPyMinimumEigensolver\n",
    "\n",
    "numpy_solver = NumPyMinimumEigensolver()"
   ]
  },
  {
   "cell_type": "markdown",
   "metadata": {},
   "source": [
    "To find the ground state we could also use the Variational Quantum Eigensolver (VQE) algorithm. The VQE algorithm works by exchanging information between a classical and a quantum computer as depicted in the following figure.\n",
    "\n",
    "<img src=\"aux_files/vqe.png\" width=\"600\">\n",
    "\n",
    "Let's initialize a VQE solver."
   ]
  },
  {
   "cell_type": "code",
   "execution_count": 4,
   "metadata": {
    "execution": {
     "iopub.execute_input": "2024-01-25T16:59:01.499610Z",
     "iopub.status.busy": "2024-01-25T16:59:01.499246Z",
     "iopub.status.idle": "2024-01-25T16:59:01.535853Z",
     "shell.execute_reply": "2024-01-25T16:59:01.535189Z"
    }
   },
   "outputs": [],
   "source": [
    "from qiskit_algorithms import VQE\n",
    "from qiskit_algorithms.optimizers import SLSQP\n",
    "from qiskit.primitives import Estimator\n",
    "from qiskit_nature.second_q.circuit.library import HartreeFock, UCCSD\n",
    "\n",
    "ansatz = UCCSD(\n",
    "    es_problem.num_spatial_orbitals,\n",
    "    es_problem.num_particles,\n",
    "    mapper,\n",
    "    initial_state=HartreeFock(\n",
    "        es_problem.num_spatial_orbitals,\n",
    "        es_problem.num_particles,\n",
    "        mapper,\n",
    "    ),\n",
    ")\n",
    "\n",
    "vqe_solver = VQE(Estimator(), ansatz, SLSQP())\n",
    "vqe_solver.initial_point = [0.0] * ansatz.num_parameters"
   ]
  },
  {
   "cell_type": "markdown",
   "metadata": {},
   "source": [
    "To define the VQE solver one needs three essential elements:\n",
    "\n",
    "1. An Estimator primitive: these were released as part of Qiskit Terra 0.22. To learn more about primitives, check out [this resource](https://qiskit.org/documentation/apidoc/primitives.html).\n",
    "2. A variational form: here we use the Unitary Coupled Cluster (UCC) ansatz (see for instance [Physical Review A 98.2 (2018): 022322]). Since it is a chemistry standard, a factory is already available allowing a fast initialization of a VQE with UCC. The default is to use all single and double excitations. However, the excitation type (S, D, SD) as well as other parameters can be selected. We also prepend the `UCCSD` variational form with a `HartreeFock` initial state, which initializes the occupation of our qubits according to the problem which we are trying solve.\n",
    "3. An optimizer: this is the classical piece of code in charge of optimizing the parameters in our variational form. See [the corresponding documentation](https://qiskit.org/ecosystem/algorithms/apidocs/qiskit_algorithms.optimizers.html) for more information.\n",
    "\n",
    "One could also use any available ansatz / initial state or even define one's own. For instance,"
   ]
  },
  {
   "cell_type": "code",
   "execution_count": 5,
   "metadata": {
    "execution": {
     "iopub.execute_input": "2024-01-25T16:59:01.538420Z",
     "iopub.status.busy": "2024-01-25T16:59:01.537999Z",
     "iopub.status.idle": "2024-01-25T16:59:01.542423Z",
     "shell.execute_reply": "2024-01-25T16:59:01.541758Z"
    }
   },
   "outputs": [],
   "source": [
    "from qiskit_algorithms import VQE\n",
    "from qiskit.circuit.library import TwoLocal\n",
    "\n",
    "tl_circuit = TwoLocal(\n",
    "    rotation_blocks=[\"h\", \"rx\"],\n",
    "    entanglement_blocks=\"cz\",\n",
    "    entanglement=\"full\",\n",
    "    reps=2,\n",
    "    parameter_prefix=\"y\",\n",
    ")\n",
    "\n",
    "another_solver = VQE(Estimator(), tl_circuit, SLSQP())"
   ]
  },
  {
   "cell_type": "markdown",
   "metadata": {},
   "source": [
    "## The calculation and results\n",
    "\n",
    "We are now ready to put everything together to compute the ground-state of our problem.\n",
    "Doing so requires us to wrap our `mapper` and quantum algorithm into a single `GroundStateEigensolver` like so:"
   ]
  },
  {
   "cell_type": "code",
   "execution_count": 6,
   "metadata": {
    "execution": {
     "iopub.execute_input": "2024-01-25T16:59:01.544930Z",
     "iopub.status.busy": "2024-01-25T16:59:01.544532Z",
     "iopub.status.idle": "2024-01-25T16:59:01.549863Z",
     "shell.execute_reply": "2024-01-25T16:59:01.549322Z"
    }
   },
   "outputs": [],
   "source": [
    "from qiskit_nature.second_q.algorithms import GroundStateEigensolver\n",
    "\n",
    "calc = GroundStateEigensolver(mapper, vqe_solver)"
   ]
  },
  {
   "cell_type": "markdown",
   "metadata": {},
   "source": [
    "This will now take of the entire workflow:\n",
    "1. generating the second-quantized operators stored in our problem (here referred to as `es_problem`)\n",
    "2. mapping (and potentially reducing) the operators in the qubit space\n",
    "3. running the quantum algorithm on the Hamiltonian qubit operator\n",
    "4. once converged, evaluating the additional observables at the determined ground state"
   ]
  },
  {
   "cell_type": "code",
   "execution_count": 7,
   "metadata": {
    "execution": {
     "iopub.execute_input": "2024-01-25T16:59:01.552249Z",
     "iopub.status.busy": "2024-01-25T16:59:01.551881Z",
     "iopub.status.idle": "2024-01-25T16:59:02.013293Z",
     "shell.execute_reply": "2024-01-25T16:59:02.012495Z"
    }
   },
   "outputs": [
    {
     "name": "stdout",
     "output_type": "stream",
     "text": [
      "=== GROUND STATE ENERGY ===\n",
      " \n",
      "* Electronic ground state energy (Hartree): -1.857275030145\n",
      "  - computed part:      -1.857275030145\n",
      "~ Nuclear repulsion energy (Hartree): 0.719968994449\n",
      "> Total ground state energy (Hartree): -1.137306035696\n",
      " \n",
      "=== MEASURED OBSERVABLES ===\n",
      " \n",
      "  0:  # Particles: 2.000 S: 0.000 S^2: 0.000 M: 0.000\n",
      " \n",
      "=== DIPOLE MOMENTS ===\n",
      " \n",
      "~ Nuclear dipole moment (a.u.): [0.0  0.0  1.3889487]\n",
      " \n",
      "  0: \n",
      "  * Electronic dipole moment (a.u.): [0.0  0.0  1.388948930893]\n",
      "    - computed part:      [0.0  0.0  1.388948930893]\n",
      "  > Dipole moment (a.u.): [0.0  0.0  -0.000000230893]  Total: 0.000000230893\n",
      "                 (debye): [0.0  0.0  -0.000000586872]  Total: 0.000000586872\n",
      " \n"
     ]
    }
   ],
   "source": [
    "res = calc.solve(es_problem)\n",
    "print(res)"
   ]
  },
  {
   "cell_type": "markdown",
   "metadata": {},
   "source": [
    "We can compare the VQE results to the NumPy exact solver and see that they match. "
   ]
  },
  {
   "cell_type": "code",
   "execution_count": 8,
   "metadata": {
    "execution": {
     "iopub.execute_input": "2024-01-25T16:59:02.016160Z",
     "iopub.status.busy": "2024-01-25T16:59:02.015716Z",
     "iopub.status.idle": "2024-01-25T16:59:02.108259Z",
     "shell.execute_reply": "2024-01-25T16:59:02.107584Z"
    }
   },
   "outputs": [
    {
     "name": "stdout",
     "output_type": "stream",
     "text": [
      "=== GROUND STATE ENERGY ===\n",
      " \n",
      "* Electronic ground state energy (Hartree): -1.857275030202\n",
      "  - computed part:      -1.857275030202\n",
      "~ Nuclear repulsion energy (Hartree): 0.719968994449\n",
      "> Total ground state energy (Hartree): -1.137306035753\n",
      " \n",
      "=== MEASURED OBSERVABLES ===\n",
      " \n",
      "  0:  # Particles: 2.000 S: 0.000 S^2: 0.000 M: 0.000\n",
      " \n",
      "=== DIPOLE MOMENTS ===\n",
      " \n",
      "~ Nuclear dipole moment (a.u.): [0.0  0.0  1.3889487]\n",
      " \n",
      "  0: \n",
      "  * Electronic dipole moment (a.u.): [0.0  0.0  1.388948701555]\n",
      "    - computed part:      [0.0  0.0  1.388948701555]\n",
      "  > Dipole moment (a.u.): [0.0  0.0  -0.000000001555]  Total: 0.000000001555\n",
      "                 (debye): [0.0  0.0  -0.000000003953]  Total: 0.000000003953\n",
      " \n"
     ]
    }
   ],
   "source": [
    "calc = GroundStateEigensolver(mapper, numpy_solver)\n",
    "res = calc.solve(es_problem)\n",
    "print(res)"
   ]
  },
  {
   "cell_type": "markdown",
   "metadata": {},
   "source": [
    "## Using a filter function"
   ]
  },
  {
   "cell_type": "markdown",
   "metadata": {},
   "source": [
    "Sometimes the true ground state of the Hamiltonian is not of interest because it lies in a different symmetry sector of the Hilbert space. In this case the `NumPyEigensolver` can take a filter function to return only the eigenstates with for example the correct number of particles. This is of particular importance in the case of vibrational structure calculations where the true ground state of the Hamiltonian is the vacuum state. A default filter function to check the number of particles is implemented in the different problems and can be used as follows:"
   ]
  },
  {
   "cell_type": "code",
   "execution_count": 9,
   "metadata": {
    "execution": {
     "iopub.execute_input": "2024-01-25T16:59:02.110992Z",
     "iopub.status.busy": "2024-01-25T16:59:02.110781Z",
     "iopub.status.idle": "2024-01-25T16:59:03.170559Z",
     "shell.execute_reply": "2024-01-25T16:59:03.169783Z"
    }
   },
   "outputs": [
    {
     "name": "stdout",
     "output_type": "stream",
     "text": [
      "=== GROUND STATE ===\n",
      " \n",
      "* Vibrational ground state energy (cm^-1): -4e-12\n",
      "The number of occupied modals for each mode is: \n",
      "- Mode 0: 0.0\n",
      "- Mode 1: 0.0\n",
      "- Mode 2: 0.0\n",
      "- Mode 3: 0.0\n",
      "\n",
      "\n",
      "\n",
      "=== GROUND STATE ===\n",
      " \n",
      "* Vibrational ground state energy (cm^-1): 2432.10695403655\n",
      "The number of occupied modals for each mode is: \n",
      "- Mode 0: 1.0\n",
      "- Mode 1: 1.0\n",
      "- Mode 2: 1.0\n",
      "- Mode 3: 1.0\n"
     ]
    }
   ],
   "source": [
    "from qiskit_algorithms import NumPyMinimumEigensolver\n",
    "from qiskit_nature.second_q.drivers import GaussianForcesDriver\n",
    "from qiskit_nature.second_q.mappers import DirectMapper\n",
    "from qiskit_nature.second_q.problems import HarmonicBasis\n",
    "\n",
    "driver = GaussianForcesDriver(logfile=\"aux_files/CO2_freq_B3LYP_631g.log\")\n",
    "basis = HarmonicBasis([2, 2, 2, 2])\n",
    "vib_problem = driver.run(basis=basis)\n",
    "vib_problem.hamiltonian.truncation_order = 2\n",
    "\n",
    "mapper = DirectMapper()\n",
    "\n",
    "solver_without_filter = NumPyMinimumEigensolver()\n",
    "solver_with_filter = NumPyMinimumEigensolver(\n",
    "    filter_criterion=vib_problem.get_default_filter_criterion()\n",
    ")\n",
    "\n",
    "gsc_wo = GroundStateEigensolver(mapper, solver_without_filter)\n",
    "result_wo = gsc_wo.solve(vib_problem)\n",
    "\n",
    "gsc_w = GroundStateEigensolver(mapper, solver_with_filter)\n",
    "result_w = gsc_w.solve(vib_problem)\n",
    "\n",
    "print(result_wo)\n",
    "print(\"\\n\\n\")\n",
    "print(result_w)"
   ]
  },
  {
   "cell_type": "code",
   "execution_count": 10,
   "metadata": {
    "execution": {
     "iopub.execute_input": "2024-01-25T16:59:03.173263Z",
     "iopub.status.busy": "2024-01-25T16:59:03.172996Z",
     "iopub.status.idle": "2024-01-25T16:59:03.279493Z",
     "shell.execute_reply": "2024-01-25T16:59:03.278838Z"
    }
   },
   "outputs": [
    {
     "data": {
      "text/html": [
       "<h3>Version Information</h3><table><tr><th>Software</th><th>Version</th></tr><tr><td><code>qiskit</code></td><td>0.45.2</td></tr><tr><td><code>qiskit_algorithms</code></td><td>0.2.2</td></tr><tr><td><code>qiskit_nature</code></td><td>0.7.1</td></tr><tr><th colspan='2'>System information</th></tr><tr><td>Python version</td><td>3.8.18</td></tr><tr><td>Python compiler</td><td>GCC 11.4.0</td></tr><tr><td>Python build</td><td>default, Aug 28 2023 08:27:22</td></tr><tr><td>OS</td><td>Linux</td></tr><tr><td>CPUs</td><td>2</td></tr><tr><td>Memory (Gb)</td><td>15.60690689086914</td></tr><tr><td colspan='2'>Thu Jan 25 16:59:03 2024 UTC</td></tr></table>"
      ],
      "text/plain": [
       "<IPython.core.display.HTML object>"
      ]
     },
     "metadata": {},
     "output_type": "display_data"
    },
    {
     "data": {
      "text/html": [
       "<div style='width: 100%; background-color:#d5d9e0;padding-left: 10px; padding-bottom: 10px; padding-right: 10px; padding-top: 5px'><h3>This code is a part of Qiskit</h3><p>&copy; Copyright IBM 2017, 2024.</p><p>This code is licensed under the Apache License, Version 2.0. You may<br>obtain a copy of this license in the LICENSE.txt file in the root directory<br> of this source tree or at http://www.apache.org/licenses/LICENSE-2.0.<p>Any modifications or derivative works of this code must retain this<br>copyright notice, and modified files need to carry a notice indicating<br>that they have been altered from the originals.</p></div>"
      ],
      "text/plain": [
       "<IPython.core.display.HTML object>"
      ]
     },
     "metadata": {},
     "output_type": "display_data"
    }
   ],
   "source": [
    "import qiskit.tools.jupyter\n",
    "\n",
    "%qiskit_version_table\n",
    "%qiskit_copyright"
   ]
  }
 ],
 "metadata": {
  "kernelspec": {
   "display_name": "Python 3",
   "language": "python",
   "name": "python3"
  },
  "language_info": {
   "codemirror_mode": {
    "name": "ipython",
    "version": 3
   },
   "file_extension": ".py",
   "mimetype": "text/x-python",
   "name": "python",
   "nbconvert_exporter": "python",
   "pygments_lexer": "ipython3",
   "version": "3.8.18"
  },
  "widgets": {
   "application/vnd.jupyter.widget-state+json": {
    "state": {
     "4521089b2d064ffa9240a66d0bcffafd": {
      "model_module": "@jupyter-widgets/controls",
      "model_module_version": "2.0.0",
      "model_name": "HTMLModel",
      "state": {
       "_dom_classes": [],
       "_model_module": "@jupyter-widgets/controls",
       "_model_module_version": "2.0.0",
       "_model_name": "HTMLModel",
       "_view_count": null,
       "_view_module": "@jupyter-widgets/controls",
       "_view_module_version": "2.0.0",
       "_view_name": "HTMLView",
       "description": "",
       "description_allow_html": false,
       "layout": "IPY_MODEL_a3c6690178d445468ef3c6f5d2b29f6e",
       "placeholder": "​",
       "style": "IPY_MODEL_a84782447772455b8890a726639c784a",
       "tabbable": null,
       "tooltip": null,
       "value": "<p style='font-family: IBM Plex Sans, Arial, Helvetica, sans-serif; font-size: 20px; font-weight: medium;'>Circuit Properties</p>"
      }
     },
     "a3c6690178d445468ef3c6f5d2b29f6e": {
      "model_module": "@jupyter-widgets/base",
      "model_module_version": "2.0.0",
      "model_name": "LayoutModel",
      "state": {
       "_model_module": "@jupyter-widgets/base",
       "_model_module_version": "2.0.0",
       "_model_name": "LayoutModel",
       "_view_count": null,
       "_view_module": "@jupyter-widgets/base",
       "_view_module_version": "2.0.0",
       "_view_name": "LayoutView",
       "align_content": null,
       "align_items": null,
       "align_self": null,
       "border_bottom": null,
       "border_left": null,
       "border_right": null,
       "border_top": null,
       "bottom": null,
       "display": null,
       "flex": null,
       "flex_flow": null,
       "grid_area": null,
       "grid_auto_columns": null,
       "grid_auto_flow": null,
       "grid_auto_rows": null,
       "grid_column": null,
       "grid_gap": null,
       "grid_row": null,
       "grid_template_areas": null,
       "grid_template_columns": null,
       "grid_template_rows": null,
       "height": null,
       "justify_content": null,
       "justify_items": null,
       "left": null,
       "margin": "0px 0px 10px 0px",
       "max_height": null,
       "max_width": null,
       "min_height": null,
       "min_width": null,
       "object_fit": null,
       "object_position": null,
       "order": null,
       "overflow": null,
       "padding": null,
       "right": null,
       "top": null,
       "visibility": null,
       "width": null
      }
     },
     "a84782447772455b8890a726639c784a": {
      "model_module": "@jupyter-widgets/controls",
      "model_module_version": "2.0.0",
      "model_name": "HTMLStyleModel",
      "state": {
       "_model_module": "@jupyter-widgets/controls",
       "_model_module_version": "2.0.0",
       "_model_name": "HTMLStyleModel",
       "_view_count": null,
       "_view_module": "@jupyter-widgets/base",
       "_view_module_version": "2.0.0",
       "_view_name": "StyleView",
       "background": null,
       "description_width": "",
       "font_size": null,
       "text_color": null
      }
     }
    },
    "version_major": 2,
    "version_minor": 0
   }
  }
 },
 "nbformat": 4,
 "nbformat_minor": 4
}
